{
 "cells": [
  {
   "cell_type": "markdown",
   "id": "953226f9",
   "metadata": {},
   "source": [
    "# PCA applied on PBMC 10X 4k Dataset in order to reproduce results"
   ]
  },
  {
   "cell_type": "markdown",
   "id": "79f30b30",
   "metadata": {},
   "source": [
    "## Import useful modules"
   ]
  },
  {
   "cell_type": "code",
   "execution_count": 1,
   "id": "be2d3346",
   "metadata": {},
   "outputs": [
    {
     "name": "stdout",
     "output_type": "stream",
     "text": [
      "Requirement already satisfied: keras==2.15.0 in c:\\users\\berth\\anaconda3\\lib\\site-packages (2.15.0)\n",
      "Requirement already satisfied: tensorflow==2.15.0 in c:\\users\\berth\\anaconda3\\lib\\site-packages (2.15.0)\n",
      "Requirement already satisfied: tensorflow-intel==2.15.0 in c:\\users\\berth\\anaconda3\\lib\\site-packages (from tensorflow==2.15.0) (2.15.0)\n",
      "Requirement already satisfied: absl-py>=1.0.0 in c:\\users\\berth\\appdata\\roaming\\python\\python311\\site-packages (from tensorflow-intel==2.15.0->tensorflow==2.15.0) (1.4.0)\n",
      "Requirement already satisfied: astunparse>=1.6.0 in c:\\users\\berth\\anaconda3\\lib\\site-packages (from tensorflow-intel==2.15.0->tensorflow==2.15.0) (1.6.3)\n",
      "Requirement already satisfied: flatbuffers>=23.5.26 in c:\\users\\berth\\anaconda3\\lib\\site-packages (from tensorflow-intel==2.15.0->tensorflow==2.15.0) (23.5.26)\n",
      "Requirement already satisfied: gast!=0.5.0,!=0.5.1,!=0.5.2,>=0.2.1 in c:\\users\\berth\\anaconda3\\lib\\site-packages (from tensorflow-intel==2.15.0->tensorflow==2.15.0) (0.4.0)\n",
      "Requirement already satisfied: google-pasta>=0.1.1 in c:\\users\\berth\\anaconda3\\lib\\site-packages (from tensorflow-intel==2.15.0->tensorflow==2.15.0) (0.2.0)\n",
      "Requirement already satisfied: h5py>=2.9.0 in c:\\users\\berth\\anaconda3\\lib\\site-packages (from tensorflow-intel==2.15.0->tensorflow==2.15.0) (3.11.0)\n",
      "Requirement already satisfied: libclang>=13.0.0 in c:\\users\\berth\\anaconda3\\lib\\site-packages (from tensorflow-intel==2.15.0->tensorflow==2.15.0) (16.0.6)\n",
      "Requirement already satisfied: ml-dtypes~=0.2.0 in c:\\users\\berth\\anaconda3\\lib\\site-packages (from tensorflow-intel==2.15.0->tensorflow==2.15.0) (0.2.0)\n",
      "Requirement already satisfied: numpy<2.0.0,>=1.23.5 in c:\\users\\berth\\anaconda3\\lib\\site-packages (from tensorflow-intel==2.15.0->tensorflow==2.15.0) (1.24.3)\n",
      "Requirement already satisfied: opt-einsum>=2.3.2 in c:\\users\\berth\\anaconda3\\lib\\site-packages (from tensorflow-intel==2.15.0->tensorflow==2.15.0) (3.3.0)\n",
      "Requirement already satisfied: packaging in c:\\users\\berth\\anaconda3\\lib\\site-packages (from tensorflow-intel==2.15.0->tensorflow==2.15.0) (23.1)\n",
      "Requirement already satisfied: protobuf!=4.21.0,!=4.21.1,!=4.21.2,!=4.21.3,!=4.21.4,!=4.21.5,<5.0.0dev,>=3.20.3 in c:\\users\\berth\\anaconda3\\lib\\site-packages (from tensorflow-intel==2.15.0->tensorflow==2.15.0) (3.20.3)\n",
      "Requirement already satisfied: setuptools in c:\\users\\berth\\anaconda3\\lib\\site-packages (from tensorflow-intel==2.15.0->tensorflow==2.15.0) (68.0.0)\n",
      "Requirement already satisfied: six>=1.12.0 in c:\\users\\berth\\anaconda3\\lib\\site-packages (from tensorflow-intel==2.15.0->tensorflow==2.15.0) (1.16.0)\n",
      "Requirement already satisfied: termcolor>=1.1.0 in c:\\users\\berth\\anaconda3\\lib\\site-packages (from tensorflow-intel==2.15.0->tensorflow==2.15.0) (2.4.0)\n",
      "Requirement already satisfied: typing-extensions>=3.6.6 in c:\\users\\berth\\anaconda3\\lib\\site-packages (from tensorflow-intel==2.15.0->tensorflow==2.15.0) (4.12.2)\n",
      "Requirement already satisfied: wrapt<1.15,>=1.11.0 in c:\\users\\berth\\anaconda3\\lib\\site-packages (from tensorflow-intel==2.15.0->tensorflow==2.15.0) (1.14.1)\n",
      "Requirement already satisfied: tensorflow-io-gcs-filesystem>=0.23.1 in c:\\users\\berth\\anaconda3\\lib\\site-packages (from tensorflow-intel==2.15.0->tensorflow==2.15.0) (0.31.0)\n",
      "Requirement already satisfied: grpcio<2.0,>=1.24.3 in c:\\users\\berth\\anaconda3\\lib\\site-packages (from tensorflow-intel==2.15.0->tensorflow==2.15.0) (1.60.1)\n",
      "Requirement already satisfied: tensorboard<2.16,>=2.15 in c:\\users\\berth\\anaconda3\\lib\\site-packages (from tensorflow-intel==2.15.0->tensorflow==2.15.0) (2.15.2)\n",
      "Requirement already satisfied: tensorflow-estimator<2.16,>=2.15.0 in c:\\users\\berth\\anaconda3\\lib\\site-packages (from tensorflow-intel==2.15.0->tensorflow==2.15.0) (2.15.0)\n",
      "Requirement already satisfied: keras<2.16,>=2.15.0 in c:\\users\\berth\\anaconda3\\lib\\site-packages (from tensorflow-intel==2.15.0->tensorflow==2.15.0) (2.15.0)\n",
      "Requirement already satisfied: wheel<1.0,>=0.23.0 in c:\\users\\berth\\anaconda3\\lib\\site-packages (from astunparse>=1.6.0->tensorflow-intel==2.15.0->tensorflow==2.15.0) (0.38.4)\n",
      "Requirement already satisfied: google-auth<3,>=1.6.3 in c:\\users\\berth\\anaconda3\\lib\\site-packages (from tensorboard<2.16,>=2.15->tensorflow-intel==2.15.0->tensorflow==2.15.0) (2.28.0)\n",
      "Requirement already satisfied: google-auth-oauthlib<2,>=0.5 in c:\\users\\berth\\anaconda3\\lib\\site-packages (from tensorboard<2.16,>=2.15->tensorflow-intel==2.15.0->tensorflow==2.15.0) (1.0.0)\n",
      "Requirement already satisfied: markdown>=2.6.8 in c:\\users\\berth\\anaconda3\\lib\\site-packages (from tensorboard<2.16,>=2.15->tensorflow-intel==2.15.0->tensorflow==2.15.0) (3.4.1)\n",
      "Requirement already satisfied: requests<3,>=2.21.0 in c:\\users\\berth\\anaconda3\\lib\\site-packages (from tensorboard<2.16,>=2.15->tensorflow-intel==2.15.0->tensorflow==2.15.0) (2.31.0)\n",
      "Requirement already satisfied: tensorboard-data-server<0.8.0,>=0.7.0 in c:\\users\\berth\\anaconda3\\lib\\site-packages (from tensorboard<2.16,>=2.15->tensorflow-intel==2.15.0->tensorflow==2.15.0) (0.7.2)\n",
      "Requirement already satisfied: werkzeug>=1.0.1 in c:\\users\\berth\\anaconda3\\lib\\site-packages (from tensorboard<2.16,>=2.15->tensorflow-intel==2.15.0->tensorflow==2.15.0) (2.2.3)\n",
      "Requirement already satisfied: cachetools<6.0,>=2.0.0 in c:\\users\\berth\\anaconda3\\lib\\site-packages (from google-auth<3,>=1.6.3->tensorboard<2.16,>=2.15->tensorflow-intel==2.15.0->tensorflow==2.15.0) (5.3.2)\n",
      "Requirement already satisfied: pyasn1-modules>=0.2.1 in c:\\users\\berth\\anaconda3\\lib\\site-packages (from google-auth<3,>=1.6.3->tensorboard<2.16,>=2.15->tensorflow-intel==2.15.0->tensorflow==2.15.0) (0.2.8)\n",
      "Requirement already satisfied: rsa<5,>=3.1.4 in c:\\users\\berth\\anaconda3\\lib\\site-packages (from google-auth<3,>=1.6.3->tensorboard<2.16,>=2.15->tensorflow-intel==2.15.0->tensorflow==2.15.0) (4.9)\n",
      "Requirement already satisfied: requests-oauthlib>=0.7.0 in c:\\users\\berth\\anaconda3\\lib\\site-packages (from google-auth-oauthlib<2,>=0.5->tensorboard<2.16,>=2.15->tensorflow-intel==2.15.0->tensorflow==2.15.0) (1.3.1)\n",
      "Requirement already satisfied: charset-normalizer<4,>=2 in c:\\users\\berth\\anaconda3\\lib\\site-packages (from requests<3,>=2.21.0->tensorboard<2.16,>=2.15->tensorflow-intel==2.15.0->tensorflow==2.15.0) (2.0.4)\n",
      "Requirement already satisfied: idna<4,>=2.5 in c:\\users\\berth\\anaconda3\\lib\\site-packages (from requests<3,>=2.21.0->tensorboard<2.16,>=2.15->tensorflow-intel==2.15.0->tensorflow==2.15.0) (3.4)\n",
      "Requirement already satisfied: urllib3<3,>=1.21.1 in c:\\users\\berth\\anaconda3\\lib\\site-packages (from requests<3,>=2.21.0->tensorboard<2.16,>=2.15->tensorflow-intel==2.15.0->tensorflow==2.15.0) (1.26.16)\n",
      "Requirement already satisfied: certifi>=2017.4.17 in c:\\users\\berth\\anaconda3\\lib\\site-packages (from requests<3,>=2.21.0->tensorboard<2.16,>=2.15->tensorflow-intel==2.15.0->tensorflow==2.15.0) (2023.7.22)\n",
      "Requirement already satisfied: MarkupSafe>=2.1.1 in c:\\users\\berth\\anaconda3\\lib\\site-packages (from werkzeug>=1.0.1->tensorboard<2.16,>=2.15->tensorflow-intel==2.15.0->tensorflow==2.15.0) (2.1.1)\n",
      "Requirement already satisfied: pyasn1<0.5.0,>=0.4.6 in c:\\users\\berth\\anaconda3\\lib\\site-packages (from pyasn1-modules>=0.2.1->google-auth<3,>=1.6.3->tensorboard<2.16,>=2.15->tensorflow-intel==2.15.0->tensorflow==2.15.0) (0.4.8)\n",
      "Requirement already satisfied: oauthlib>=3.0.0 in c:\\users\\berth\\anaconda3\\lib\\site-packages (from requests-oauthlib>=0.7.0->google-auth-oauthlib<2,>=0.5->tensorboard<2.16,>=2.15->tensorflow-intel==2.15.0->tensorflow==2.15.0) (3.2.2)\n"
     ]
    }
   ],
   "source": [
    "!pip install scanpy\n",
    "!pip install keras\n",
    "!pip install tensorflow\n",
    "!pip install pandas\n",
    "!pip install numpy\n",
    "!pip install scikit-learn\n",
    "!pip3 install igraph\n",
    "!pip3 install leidenalg\n",
    "!pip install os\n",
    "!pip install csv\n",
    "!pip install random"
   ]
  },
  {
   "cell_type": "code",
   "execution_count": 2,
   "id": "436ae1da",
   "metadata": {},
   "outputs": [
    {
     "name": "stdout",
     "output_type": "stream",
     "text": [
      "WARNING:tensorflow:From C:\\Users\\berth\\anaconda3\\Lib\\site-packages\\keras\\src\\losses.py:2976: The name tf.losses.sparse_softmax_cross_entropy is deprecated. Please use tf.compat.v1.losses.sparse_softmax_cross_entropy instead.\n",
      "\n",
      "WARNING:tensorflow:From C:\\Users\\berth\\anaconda3\\Lib\\site-packages\\keras\\src\\backend.py:873: The name tf.get_default_graph is deprecated. Please use tf.compat.v1.get_default_graph instead.\n",
      "\n"
     ]
    }
   ],
   "source": [
    "from keras import layers\n",
    "from keras.models import load_model, Model\n",
    "from keras import backend as K\n",
    "import numpy as np\n",
    "import scanpy as sc\n",
    "import tensorflow as tf\n",
    "import pandas as pd\n",
    "import matplotlib.pyplot as plt\n",
    "from sklearn.metrics import adjusted_rand_score, normalized_mutual_info_score, accuracy_score, confusion_matrix\n",
    "from sklearn.cluster import KMeans\n",
    "from sklearn.cluster import AgglomerativeClustering\n",
    "import seaborn as sns\n",
    "from layers import ConstantDispersionLayer, SliceLayer, ColWiseMultLayer\n",
    "import keras\n",
    "from keras.layers import Layer\n",
    "from sklearn.model_selection import train_test_split\n",
    "import time\n",
    "from sklearn.metrics.pairwise import euclidean_distances\n",
    "from scipy.optimize import linear_sum_assignment as linear_assignment\n",
    "import seaborn as sns\n",
    "from sklearn.metrics import silhouette_score\n",
    "from sklearn.decomposition import PCA\n",
    "import h5py"
   ]
  },
  {
   "cell_type": "code",
   "execution_count": 3,
   "id": "ac9baf76",
   "metadata": {},
   "outputs": [
    {
     "data": {
      "text/plain": [
       "'2.15.0'"
      ]
     },
     "execution_count": 3,
     "metadata": {},
     "output_type": "execute_result"
    }
   ],
   "source": [
    "tf.__version__"
   ]
  },
  {
   "cell_type": "code",
   "execution_count": 4,
   "id": "5c088e7c",
   "metadata": {},
   "outputs": [
    {
     "data": {
      "text/plain": [
       "'2.15.0'"
      ]
     },
     "execution_count": 4,
     "metadata": {},
     "output_type": "execute_result"
    }
   ],
   "source": [
    "keras.__version__"
   ]
  },
  {
   "cell_type": "markdown",
   "id": "bd8432bf",
   "metadata": {},
   "source": [
    "## Preprocessing"
   ]
  },
  {
   "cell_type": "markdown",
   "id": "76eaf695",
   "metadata": {},
   "source": [
    "### Load dataset"
   ]
  },
  {
   "cell_type": "markdown",
   "id": "4287976f",
   "metadata": {},
   "source": [
    "Import dataset PBMC and check the data"
   ]
  },
  {
   "cell_type": "code",
   "execution_count": 5,
   "id": "0b855d58",
   "metadata": {},
   "outputs": [
    {
     "data": {
      "text/html": [
       "<div>\n",
       "<style scoped>\n",
       "    .dataframe tbody tr th:only-of-type {\n",
       "        vertical-align: middle;\n",
       "    }\n",
       "\n",
       "    .dataframe tbody tr th {\n",
       "        vertical-align: top;\n",
       "    }\n",
       "\n",
       "    .dataframe thead th {\n",
       "        text-align: right;\n",
       "    }\n",
       "</style>\n",
       "<table border=\"1\" class=\"dataframe\">\n",
       "  <thead>\n",
       "    <tr style=\"text-align: right;\">\n",
       "      <th></th>\n",
       "      <th>0</th>\n",
       "      <th>1</th>\n",
       "      <th>2</th>\n",
       "      <th>3</th>\n",
       "      <th>4</th>\n",
       "      <th>5</th>\n",
       "      <th>6</th>\n",
       "      <th>7</th>\n",
       "      <th>8</th>\n",
       "      <th>9</th>\n",
       "      <th>...</th>\n",
       "      <th>16643</th>\n",
       "      <th>16644</th>\n",
       "      <th>16645</th>\n",
       "      <th>16646</th>\n",
       "      <th>16647</th>\n",
       "      <th>16648</th>\n",
       "      <th>16649</th>\n",
       "      <th>16650</th>\n",
       "      <th>16651</th>\n",
       "      <th>16652</th>\n",
       "    </tr>\n",
       "  </thead>\n",
       "  <tbody>\n",
       "    <tr>\n",
       "      <th>0</th>\n",
       "      <td>0.0</td>\n",
       "      <td>0.0</td>\n",
       "      <td>0.0</td>\n",
       "      <td>0.0</td>\n",
       "      <td>0.0</td>\n",
       "      <td>0.0</td>\n",
       "      <td>0.0</td>\n",
       "      <td>0.0</td>\n",
       "      <td>0.0</td>\n",
       "      <td>0.0</td>\n",
       "      <td>...</td>\n",
       "      <td>0.0</td>\n",
       "      <td>3.0</td>\n",
       "      <td>0.0</td>\n",
       "      <td>0.0</td>\n",
       "      <td>0.0</td>\n",
       "      <td>0.0</td>\n",
       "      <td>0.0</td>\n",
       "      <td>0.0</td>\n",
       "      <td>0.0</td>\n",
       "      <td>0.0</td>\n",
       "    </tr>\n",
       "    <tr>\n",
       "      <th>1</th>\n",
       "      <td>0.0</td>\n",
       "      <td>0.0</td>\n",
       "      <td>0.0</td>\n",
       "      <td>0.0</td>\n",
       "      <td>0.0</td>\n",
       "      <td>0.0</td>\n",
       "      <td>0.0</td>\n",
       "      <td>0.0</td>\n",
       "      <td>0.0</td>\n",
       "      <td>0.0</td>\n",
       "      <td>...</td>\n",
       "      <td>0.0</td>\n",
       "      <td>14.0</td>\n",
       "      <td>0.0</td>\n",
       "      <td>0.0</td>\n",
       "      <td>0.0</td>\n",
       "      <td>0.0</td>\n",
       "      <td>0.0</td>\n",
       "      <td>0.0</td>\n",
       "      <td>0.0</td>\n",
       "      <td>0.0</td>\n",
       "    </tr>\n",
       "    <tr>\n",
       "      <th>2</th>\n",
       "      <td>0.0</td>\n",
       "      <td>0.0</td>\n",
       "      <td>0.0</td>\n",
       "      <td>0.0</td>\n",
       "      <td>0.0</td>\n",
       "      <td>0.0</td>\n",
       "      <td>0.0</td>\n",
       "      <td>0.0</td>\n",
       "      <td>0.0</td>\n",
       "      <td>0.0</td>\n",
       "      <td>...</td>\n",
       "      <td>0.0</td>\n",
       "      <td>7.0</td>\n",
       "      <td>0.0</td>\n",
       "      <td>0.0</td>\n",
       "      <td>0.0</td>\n",
       "      <td>0.0</td>\n",
       "      <td>0.0</td>\n",
       "      <td>0.0</td>\n",
       "      <td>0.0</td>\n",
       "      <td>0.0</td>\n",
       "    </tr>\n",
       "    <tr>\n",
       "      <th>3</th>\n",
       "      <td>0.0</td>\n",
       "      <td>0.0</td>\n",
       "      <td>0.0</td>\n",
       "      <td>0.0</td>\n",
       "      <td>1.0</td>\n",
       "      <td>0.0</td>\n",
       "      <td>0.0</td>\n",
       "      <td>0.0</td>\n",
       "      <td>1.0</td>\n",
       "      <td>0.0</td>\n",
       "      <td>...</td>\n",
       "      <td>0.0</td>\n",
       "      <td>8.0</td>\n",
       "      <td>0.0</td>\n",
       "      <td>0.0</td>\n",
       "      <td>0.0</td>\n",
       "      <td>0.0</td>\n",
       "      <td>0.0</td>\n",
       "      <td>0.0</td>\n",
       "      <td>0.0</td>\n",
       "      <td>0.0</td>\n",
       "    </tr>\n",
       "    <tr>\n",
       "      <th>4</th>\n",
       "      <td>0.0</td>\n",
       "      <td>0.0</td>\n",
       "      <td>0.0</td>\n",
       "      <td>0.0</td>\n",
       "      <td>0.0</td>\n",
       "      <td>0.0</td>\n",
       "      <td>0.0</td>\n",
       "      <td>0.0</td>\n",
       "      <td>0.0</td>\n",
       "      <td>0.0</td>\n",
       "      <td>...</td>\n",
       "      <td>0.0</td>\n",
       "      <td>4.0</td>\n",
       "      <td>0.0</td>\n",
       "      <td>0.0</td>\n",
       "      <td>0.0</td>\n",
       "      <td>0.0</td>\n",
       "      <td>0.0</td>\n",
       "      <td>0.0</td>\n",
       "      <td>0.0</td>\n",
       "      <td>0.0</td>\n",
       "    </tr>\n",
       "    <tr>\n",
       "      <th>...</th>\n",
       "      <td>...</td>\n",
       "      <td>...</td>\n",
       "      <td>...</td>\n",
       "      <td>...</td>\n",
       "      <td>...</td>\n",
       "      <td>...</td>\n",
       "      <td>...</td>\n",
       "      <td>...</td>\n",
       "      <td>...</td>\n",
       "      <td>...</td>\n",
       "      <td>...</td>\n",
       "      <td>...</td>\n",
       "      <td>...</td>\n",
       "      <td>...</td>\n",
       "      <td>...</td>\n",
       "      <td>...</td>\n",
       "      <td>...</td>\n",
       "      <td>...</td>\n",
       "      <td>...</td>\n",
       "      <td>...</td>\n",
       "      <td>...</td>\n",
       "    </tr>\n",
       "    <tr>\n",
       "      <th>4266</th>\n",
       "      <td>0.0</td>\n",
       "      <td>0.0</td>\n",
       "      <td>0.0</td>\n",
       "      <td>0.0</td>\n",
       "      <td>0.0</td>\n",
       "      <td>0.0</td>\n",
       "      <td>0.0</td>\n",
       "      <td>0.0</td>\n",
       "      <td>0.0</td>\n",
       "      <td>0.0</td>\n",
       "      <td>...</td>\n",
       "      <td>0.0</td>\n",
       "      <td>10.0</td>\n",
       "      <td>0.0</td>\n",
       "      <td>0.0</td>\n",
       "      <td>0.0</td>\n",
       "      <td>0.0</td>\n",
       "      <td>0.0</td>\n",
       "      <td>0.0</td>\n",
       "      <td>1.0</td>\n",
       "      <td>0.0</td>\n",
       "    </tr>\n",
       "    <tr>\n",
       "      <th>4267</th>\n",
       "      <td>0.0</td>\n",
       "      <td>1.0</td>\n",
       "      <td>0.0</td>\n",
       "      <td>0.0</td>\n",
       "      <td>0.0</td>\n",
       "      <td>0.0</td>\n",
       "      <td>0.0</td>\n",
       "      <td>0.0</td>\n",
       "      <td>0.0</td>\n",
       "      <td>0.0</td>\n",
       "      <td>...</td>\n",
       "      <td>0.0</td>\n",
       "      <td>9.0</td>\n",
       "      <td>0.0</td>\n",
       "      <td>0.0</td>\n",
       "      <td>0.0</td>\n",
       "      <td>0.0</td>\n",
       "      <td>0.0</td>\n",
       "      <td>0.0</td>\n",
       "      <td>0.0</td>\n",
       "      <td>0.0</td>\n",
       "    </tr>\n",
       "    <tr>\n",
       "      <th>4268</th>\n",
       "      <td>0.0</td>\n",
       "      <td>0.0</td>\n",
       "      <td>0.0</td>\n",
       "      <td>0.0</td>\n",
       "      <td>0.0</td>\n",
       "      <td>0.0</td>\n",
       "      <td>0.0</td>\n",
       "      <td>0.0</td>\n",
       "      <td>2.0</td>\n",
       "      <td>0.0</td>\n",
       "      <td>...</td>\n",
       "      <td>1.0</td>\n",
       "      <td>20.0</td>\n",
       "      <td>0.0</td>\n",
       "      <td>0.0</td>\n",
       "      <td>0.0</td>\n",
       "      <td>0.0</td>\n",
       "      <td>0.0</td>\n",
       "      <td>1.0</td>\n",
       "      <td>0.0</td>\n",
       "      <td>0.0</td>\n",
       "    </tr>\n",
       "    <tr>\n",
       "      <th>4269</th>\n",
       "      <td>0.0</td>\n",
       "      <td>0.0</td>\n",
       "      <td>0.0</td>\n",
       "      <td>0.0</td>\n",
       "      <td>0.0</td>\n",
       "      <td>0.0</td>\n",
       "      <td>0.0</td>\n",
       "      <td>0.0</td>\n",
       "      <td>0.0</td>\n",
       "      <td>0.0</td>\n",
       "      <td>...</td>\n",
       "      <td>0.0</td>\n",
       "      <td>3.0</td>\n",
       "      <td>0.0</td>\n",
       "      <td>0.0</td>\n",
       "      <td>0.0</td>\n",
       "      <td>0.0</td>\n",
       "      <td>0.0</td>\n",
       "      <td>0.0</td>\n",
       "      <td>0.0</td>\n",
       "      <td>0.0</td>\n",
       "    </tr>\n",
       "    <tr>\n",
       "      <th>4270</th>\n",
       "      <td>0.0</td>\n",
       "      <td>0.0</td>\n",
       "      <td>0.0</td>\n",
       "      <td>0.0</td>\n",
       "      <td>0.0</td>\n",
       "      <td>0.0</td>\n",
       "      <td>0.0</td>\n",
       "      <td>0.0</td>\n",
       "      <td>0.0</td>\n",
       "      <td>0.0</td>\n",
       "      <td>...</td>\n",
       "      <td>0.0</td>\n",
       "      <td>9.0</td>\n",
       "      <td>0.0</td>\n",
       "      <td>0.0</td>\n",
       "      <td>0.0</td>\n",
       "      <td>0.0</td>\n",
       "      <td>0.0</td>\n",
       "      <td>0.0</td>\n",
       "      <td>0.0</td>\n",
       "      <td>0.0</td>\n",
       "    </tr>\n",
       "  </tbody>\n",
       "</table>\n",
       "<p>4271 rows × 16653 columns</p>\n",
       "</div>"
      ],
      "text/plain": [
       "      0      1      2      3      4      5      6      7      8      9      \\\n",
       "0       0.0    0.0    0.0    0.0    0.0    0.0    0.0    0.0    0.0    0.0   \n",
       "1       0.0    0.0    0.0    0.0    0.0    0.0    0.0    0.0    0.0    0.0   \n",
       "2       0.0    0.0    0.0    0.0    0.0    0.0    0.0    0.0    0.0    0.0   \n",
       "3       0.0    0.0    0.0    0.0    1.0    0.0    0.0    0.0    1.0    0.0   \n",
       "4       0.0    0.0    0.0    0.0    0.0    0.0    0.0    0.0    0.0    0.0   \n",
       "...     ...    ...    ...    ...    ...    ...    ...    ...    ...    ...   \n",
       "4266    0.0    0.0    0.0    0.0    0.0    0.0    0.0    0.0    0.0    0.0   \n",
       "4267    0.0    1.0    0.0    0.0    0.0    0.0    0.0    0.0    0.0    0.0   \n",
       "4268    0.0    0.0    0.0    0.0    0.0    0.0    0.0    0.0    2.0    0.0   \n",
       "4269    0.0    0.0    0.0    0.0    0.0    0.0    0.0    0.0    0.0    0.0   \n",
       "4270    0.0    0.0    0.0    0.0    0.0    0.0    0.0    0.0    0.0    0.0   \n",
       "\n",
       "      ...  16643  16644  16645  16646  16647  16648  16649  16650  16651  \\\n",
       "0     ...    0.0    3.0    0.0    0.0    0.0    0.0    0.0    0.0    0.0   \n",
       "1     ...    0.0   14.0    0.0    0.0    0.0    0.0    0.0    0.0    0.0   \n",
       "2     ...    0.0    7.0    0.0    0.0    0.0    0.0    0.0    0.0    0.0   \n",
       "3     ...    0.0    8.0    0.0    0.0    0.0    0.0    0.0    0.0    0.0   \n",
       "4     ...    0.0    4.0    0.0    0.0    0.0    0.0    0.0    0.0    0.0   \n",
       "...   ...    ...    ...    ...    ...    ...    ...    ...    ...    ...   \n",
       "4266  ...    0.0   10.0    0.0    0.0    0.0    0.0    0.0    0.0    1.0   \n",
       "4267  ...    0.0    9.0    0.0    0.0    0.0    0.0    0.0    0.0    0.0   \n",
       "4268  ...    1.0   20.0    0.0    0.0    0.0    0.0    0.0    1.0    0.0   \n",
       "4269  ...    0.0    3.0    0.0    0.0    0.0    0.0    0.0    0.0    0.0   \n",
       "4270  ...    0.0    9.0    0.0    0.0    0.0    0.0    0.0    0.0    0.0   \n",
       "\n",
       "      16652  \n",
       "0       0.0  \n",
       "1       0.0  \n",
       "2       0.0  \n",
       "3       0.0  \n",
       "4       0.0  \n",
       "...     ...  \n",
       "4266    0.0  \n",
       "4267    0.0  \n",
       "4268    0.0  \n",
       "4269    0.0  \n",
       "4270    0.0  \n",
       "\n",
       "[4271 rows x 16653 columns]"
      ]
     },
     "execution_count": 5,
     "metadata": {},
     "output_type": "execute_result"
    }
   ],
   "source": [
    "filename=\"./dataset/10X_PBMC.h5\"\n",
    "with h5py.File(filename, 'r') as f :\n",
    "    data_X=f['X'][:]\n",
    "    data_Y=f['Y'][:]\n",
    "    df_X=pd.DataFrame(data_X)\n",
    "    df_Y=pd.DataFrame(data_Y)\n",
    "    \n",
    "df_X"
   ]
  },
  {
   "cell_type": "code",
   "execution_count": 6,
   "id": "abe52e83",
   "metadata": {},
   "outputs": [
    {
     "data": {
      "text/html": [
       "<div>\n",
       "<style scoped>\n",
       "    .dataframe tbody tr th:only-of-type {\n",
       "        vertical-align: middle;\n",
       "    }\n",
       "\n",
       "    .dataframe tbody tr th {\n",
       "        vertical-align: top;\n",
       "    }\n",
       "\n",
       "    .dataframe thead th {\n",
       "        text-align: right;\n",
       "    }\n",
       "</style>\n",
       "<table border=\"1\" class=\"dataframe\">\n",
       "  <thead>\n",
       "    <tr style=\"text-align: right;\">\n",
       "      <th></th>\n",
       "      <th>label</th>\n",
       "    </tr>\n",
       "  </thead>\n",
       "  <tbody>\n",
       "    <tr>\n",
       "      <th>0</th>\n",
       "      <td>2</td>\n",
       "    </tr>\n",
       "    <tr>\n",
       "      <th>1</th>\n",
       "      <td>2</td>\n",
       "    </tr>\n",
       "    <tr>\n",
       "      <th>2</th>\n",
       "      <td>2</td>\n",
       "    </tr>\n",
       "    <tr>\n",
       "      <th>3</th>\n",
       "      <td>8</td>\n",
       "    </tr>\n",
       "    <tr>\n",
       "      <th>4</th>\n",
       "      <td>3</td>\n",
       "    </tr>\n",
       "    <tr>\n",
       "      <th>...</th>\n",
       "      <td>...</td>\n",
       "    </tr>\n",
       "    <tr>\n",
       "      <th>4266</th>\n",
       "      <td>6</td>\n",
       "    </tr>\n",
       "    <tr>\n",
       "      <th>4267</th>\n",
       "      <td>5</td>\n",
       "    </tr>\n",
       "    <tr>\n",
       "      <th>4268</th>\n",
       "      <td>7</td>\n",
       "    </tr>\n",
       "    <tr>\n",
       "      <th>4269</th>\n",
       "      <td>3</td>\n",
       "    </tr>\n",
       "    <tr>\n",
       "      <th>4270</th>\n",
       "      <td>2</td>\n",
       "    </tr>\n",
       "  </tbody>\n",
       "</table>\n",
       "<p>4271 rows × 1 columns</p>\n",
       "</div>"
      ],
      "text/plain": [
       "     label\n",
       "0        2\n",
       "1        2\n",
       "2        2\n",
       "3        8\n",
       "4        3\n",
       "...    ...\n",
       "4266     6\n",
       "4267     5\n",
       "4268     7\n",
       "4269     3\n",
       "4270     2\n",
       "\n",
       "[4271 rows x 1 columns]"
      ]
     },
     "execution_count": 6,
     "metadata": {},
     "output_type": "execute_result"
    }
   ],
   "source": [
    "df_Y.columns=['label']\n",
    "df_Y[\"label\"]=df_Y['label'].astype(str)\n",
    "df_Y"
   ]
  },
  {
   "cell_type": "code",
   "execution_count": 7,
   "id": "766400f4",
   "metadata": {},
   "outputs": [
    {
     "data": {
      "text/plain": [
       "label\n",
       "1    1292\n",
       "2     702\n",
       "3     606\n",
       "4     459\n",
       "5     450\n",
       "6     332\n",
       "7     295\n",
       "8     135\n",
       "Name: count, dtype: int64"
      ]
     },
     "execution_count": 7,
     "metadata": {},
     "output_type": "execute_result"
    }
   ],
   "source": [
    "df_Y[\"label\"].value_counts()"
   ]
  },
  {
   "cell_type": "code",
   "execution_count": 8,
   "id": "2334f9c2",
   "metadata": {},
   "outputs": [
    {
     "name": "stderr",
     "output_type": "stream",
     "text": [
      "C:\\Users\\berth\\anaconda3\\Lib\\site-packages\\anndata\\_core\\anndata.py:183: ImplicitModificationWarning: Transforming to str index.\n",
      "  warnings.warn(\"Transforming to str index.\", ImplicitModificationWarning)\n",
      "C:\\Users\\berth\\anaconda3\\Lib\\site-packages\\anndata\\_core\\anndata.py:183: ImplicitModificationWarning: Transforming to str index.\n",
      "  warnings.warn(\"Transforming to str index.\", ImplicitModificationWarning)\n"
     ]
    },
    {
     "data": {
      "text/plain": [
       "AnnData object with n_obs × n_vars = 4271 × 16653"
      ]
     },
     "execution_count": 8,
     "metadata": {},
     "output_type": "execute_result"
    }
   ],
   "source": [
    "data_ann=sc.AnnData(df_X)\n",
    "data_ann"
   ]
  },
  {
   "cell_type": "code",
   "execution_count": 9,
   "id": "8599d6f0",
   "metadata": {},
   "outputs": [],
   "source": [
    "data_ann.obs=df_Y"
   ]
  },
  {
   "cell_type": "markdown",
   "id": "4a98b9b4",
   "metadata": {},
   "source": [
    "### Filter data"
   ]
  },
  {
   "cell_type": "markdown",
   "id": "67b8b136",
   "metadata": {},
   "source": [
    "On filtre les données de manière peu stricte"
   ]
  },
  {
   "cell_type": "code",
   "execution_count": 10,
   "id": "7a97bdd0",
   "metadata": {},
   "outputs": [
    {
     "name": "stderr",
     "output_type": "stream",
     "text": [
      "C:\\Users\\berth\\anaconda3\\Lib\\site-packages\\anndata\\_core\\anndata.py:183: ImplicitModificationWarning: Transforming to str index.\n",
      "  warnings.warn(\"Transforming to str index.\", ImplicitModificationWarning)\n"
     ]
    }
   ],
   "source": [
    "sc.pp.filter_genes(data_ann, min_counts=1)\n",
    "sc.pp.filter_cells(data_ann, min_counts=1)"
   ]
  },
  {
   "cell_type": "code",
   "execution_count": 11,
   "id": "d666545d",
   "metadata": {},
   "outputs": [],
   "source": [
    "data_ann.raw = data_ann.copy()"
   ]
  },
  {
   "cell_type": "code",
   "execution_count": 12,
   "id": "5dbcce11",
   "metadata": {},
   "outputs": [
    {
     "data": {
      "text/plain": [
       "AnnData object with n_obs × n_vars = 4271 × 16653\n",
       "    obs: 'label', 'n_counts'\n",
       "    var: 'n_counts'"
      ]
     },
     "execution_count": 12,
     "metadata": {},
     "output_type": "execute_result"
    }
   ],
   "source": [
    "data_ann"
   ]
  },
  {
   "cell_type": "markdown",
   "id": "a93d30f5",
   "metadata": {},
   "source": [
    "### Normalize and scale"
   ]
  },
  {
   "cell_type": "code",
   "execution_count": 13,
   "id": "219882fb",
   "metadata": {},
   "outputs": [],
   "source": [
    "#normalize\n",
    "sc.pp.normalize_total(data_ann)\n",
    "\n",
    "#compute size factor\n",
    "data_ann.obs['size_factors'] = data_ann.obs.n_genes / np.median(data_ann.obs.n_genes)\n",
    "#data_ann.obs['size_factors'] = 1.0\n",
    "\n",
    "#log transform\n",
    "sc.pp.log1p(data_ann)"
   ]
  },
  {
   "cell_type": "code",
   "execution_count": 14,
   "id": "038d051f",
   "metadata": {},
   "outputs": [],
   "source": [
    "#sc.pp.highly_variable_genes(data_ann, n_top_genes=2000, batch_key=\"label\")\n",
    "#sc.pl.highly_variable_genes(data_ann)"
   ]
  },
  {
   "cell_type": "code",
   "execution_count": 15,
   "id": "490890e8",
   "metadata": {},
   "outputs": [],
   "source": [
    "#sc.pp.scale(data_ann)"
   ]
  },
  {
   "cell_type": "markdown",
   "id": "a1eb6129",
   "metadata": {},
   "source": [
    "### Explore the result"
   ]
  },
  {
   "cell_type": "code",
   "execution_count": 16,
   "id": "60b31b99",
   "metadata": {},
   "outputs": [
    {
     "data": {
      "text/plain": [
       "array([[0.        , 0.        , 0.        , ..., 0.        , 0.        ,\n",
       "        0.        ],\n",
       "       [0.        , 0.        , 0.        , ..., 0.        , 0.        ,\n",
       "        0.        ],\n",
       "       [0.        , 0.        , 0.        , ..., 0.        , 0.        ,\n",
       "        0.        ],\n",
       "       ...,\n",
       "       [0.        , 0.        , 0.        , ..., 0.38010312, 0.        ,\n",
       "        0.        ],\n",
       "       [0.        , 0.        , 0.        , ..., 0.        , 0.        ,\n",
       "        0.        ],\n",
       "       [0.        , 0.        , 0.        , ..., 0.        , 0.        ,\n",
       "        0.        ]])"
      ]
     },
     "execution_count": 16,
     "metadata": {},
     "output_type": "execute_result"
    }
   ],
   "source": [
    "data_ann.X"
   ]
  },
  {
   "cell_type": "code",
   "execution_count": 17,
   "id": "930af5a8",
   "metadata": {},
   "outputs": [
    {
     "data": {
      "text/plain": [
       "16653"
      ]
     },
     "execution_count": 17,
     "metadata": {},
     "output_type": "execute_result"
    }
   ],
   "source": [
    "data_ann.n_vars"
   ]
  },
  {
   "cell_type": "code",
   "execution_count": 18,
   "id": "744468b0",
   "metadata": {},
   "outputs": [
    {
     "data": {
      "text/plain": [
       "array([[0.        , 0.        , 0.        , ..., 0.        , 0.        ,\n",
       "        0.        ],\n",
       "       [0.        , 0.        , 0.        , ..., 0.        , 0.        ,\n",
       "        0.        ],\n",
       "       [0.        , 0.        , 0.        , ..., 0.        , 0.        ,\n",
       "        0.        ],\n",
       "       ...,\n",
       "       [0.        , 0.        , 0.        , ..., 0.38010312, 0.        ,\n",
       "        0.        ],\n",
       "       [0.        , 0.        , 0.        , ..., 0.        , 0.        ,\n",
       "        0.        ],\n",
       "       [0.        , 0.        , 0.        , ..., 0.        , 0.        ,\n",
       "        0.        ]])"
      ]
     },
     "execution_count": 18,
     "metadata": {},
     "output_type": "execute_result"
    }
   ],
   "source": [
    "data_ann.X"
   ]
  },
  {
   "cell_type": "code",
   "execution_count": 19,
   "id": "b2814ad6",
   "metadata": {},
   "outputs": [
    {
     "data": {
      "text/html": [
       "<div>\n",
       "<style scoped>\n",
       "    .dataframe tbody tr th:only-of-type {\n",
       "        vertical-align: middle;\n",
       "    }\n",
       "\n",
       "    .dataframe tbody tr th {\n",
       "        vertical-align: top;\n",
       "    }\n",
       "\n",
       "    .dataframe thead th {\n",
       "        text-align: right;\n",
       "    }\n",
       "</style>\n",
       "<table border=\"1\" class=\"dataframe\">\n",
       "  <thead>\n",
       "    <tr style=\"text-align: right;\">\n",
       "      <th></th>\n",
       "      <th>n_counts</th>\n",
       "    </tr>\n",
       "  </thead>\n",
       "  <tbody>\n",
       "    <tr>\n",
       "      <th>0</th>\n",
       "      <td>9.0</td>\n",
       "    </tr>\n",
       "    <tr>\n",
       "      <th>1</th>\n",
       "      <td>622.0</td>\n",
       "    </tr>\n",
       "    <tr>\n",
       "      <th>2</th>\n",
       "      <td>240.0</td>\n",
       "    </tr>\n",
       "    <tr>\n",
       "      <th>3</th>\n",
       "      <td>12.0</td>\n",
       "    </tr>\n",
       "    <tr>\n",
       "      <th>4</th>\n",
       "      <td>108.0</td>\n",
       "    </tr>\n",
       "    <tr>\n",
       "      <th>...</th>\n",
       "      <td>...</td>\n",
       "    </tr>\n",
       "    <tr>\n",
       "      <th>16648</th>\n",
       "      <td>347.0</td>\n",
       "    </tr>\n",
       "    <tr>\n",
       "      <th>16649</th>\n",
       "      <td>79.0</td>\n",
       "    </tr>\n",
       "    <tr>\n",
       "      <th>16650</th>\n",
       "      <td>9.0</td>\n",
       "    </tr>\n",
       "    <tr>\n",
       "      <th>16651</th>\n",
       "      <td>15.0</td>\n",
       "    </tr>\n",
       "    <tr>\n",
       "      <th>16652</th>\n",
       "      <td>39.0</td>\n",
       "    </tr>\n",
       "  </tbody>\n",
       "</table>\n",
       "<p>16653 rows × 1 columns</p>\n",
       "</div>"
      ],
      "text/plain": [
       "       n_counts\n",
       "0           9.0\n",
       "1         622.0\n",
       "2         240.0\n",
       "3          12.0\n",
       "4         108.0\n",
       "...         ...\n",
       "16648     347.0\n",
       "16649      79.0\n",
       "16650       9.0\n",
       "16651      15.0\n",
       "16652      39.0\n",
       "\n",
       "[16653 rows x 1 columns]"
      ]
     },
     "execution_count": 19,
     "metadata": {},
     "output_type": "execute_result"
    }
   ],
   "source": [
    "data_ann.var"
   ]
  },
  {
   "cell_type": "code",
   "execution_count": 20,
   "id": "09ca4c45",
   "metadata": {},
   "outputs": [
    {
     "data": {
      "text/html": [
       "<div>\n",
       "<style scoped>\n",
       "    .dataframe tbody tr th:only-of-type {\n",
       "        vertical-align: middle;\n",
       "    }\n",
       "\n",
       "    .dataframe tbody tr th {\n",
       "        vertical-align: top;\n",
       "    }\n",
       "\n",
       "    .dataframe thead th {\n",
       "        text-align: right;\n",
       "    }\n",
       "</style>\n",
       "<table border=\"1\" class=\"dataframe\">\n",
       "  <thead>\n",
       "    <tr style=\"text-align: right;\">\n",
       "      <th></th>\n",
       "      <th>label</th>\n",
       "      <th>n_counts</th>\n",
       "      <th>size_factors</th>\n",
       "    </tr>\n",
       "  </thead>\n",
       "  <tbody>\n",
       "    <tr>\n",
       "      <th>0</th>\n",
       "      <td>2</td>\n",
       "      <td>1738.0</td>\n",
       "      <td>0.451781</td>\n",
       "    </tr>\n",
       "    <tr>\n",
       "      <th>1</th>\n",
       "      <td>2</td>\n",
       "      <td>3240.0</td>\n",
       "      <td>0.842215</td>\n",
       "    </tr>\n",
       "    <tr>\n",
       "      <th>2</th>\n",
       "      <td>2</td>\n",
       "      <td>1683.0</td>\n",
       "      <td>0.437484</td>\n",
       "    </tr>\n",
       "    <tr>\n",
       "      <th>3</th>\n",
       "      <td>8</td>\n",
       "      <td>2318.0</td>\n",
       "      <td>0.602547</td>\n",
       "    </tr>\n",
       "    <tr>\n",
       "      <th>4</th>\n",
       "      <td>3</td>\n",
       "      <td>2983.0</td>\n",
       "      <td>0.775409</td>\n",
       "    </tr>\n",
       "    <tr>\n",
       "      <th>...</th>\n",
       "      <td>...</td>\n",
       "      <td>...</td>\n",
       "      <td>...</td>\n",
       "    </tr>\n",
       "    <tr>\n",
       "      <th>4266</th>\n",
       "      <td>6</td>\n",
       "      <td>6512.0</td>\n",
       "      <td>1.692748</td>\n",
       "    </tr>\n",
       "    <tr>\n",
       "      <th>4267</th>\n",
       "      <td>5</td>\n",
       "      <td>3292.0</td>\n",
       "      <td>0.855732</td>\n",
       "    </tr>\n",
       "    <tr>\n",
       "      <th>4268</th>\n",
       "      <td>7</td>\n",
       "      <td>8319.0</td>\n",
       "      <td>2.162464</td>\n",
       "    </tr>\n",
       "    <tr>\n",
       "      <th>4269</th>\n",
       "      <td>3</td>\n",
       "      <td>2932.0</td>\n",
       "      <td>0.762152</td>\n",
       "    </tr>\n",
       "    <tr>\n",
       "      <th>4270</th>\n",
       "      <td>2</td>\n",
       "      <td>3321.0</td>\n",
       "      <td>0.863270</td>\n",
       "    </tr>\n",
       "  </tbody>\n",
       "</table>\n",
       "<p>4271 rows × 3 columns</p>\n",
       "</div>"
      ],
      "text/plain": [
       "     label  n_counts  size_factors\n",
       "0        2    1738.0      0.451781\n",
       "1        2    3240.0      0.842215\n",
       "2        2    1683.0      0.437484\n",
       "3        8    2318.0      0.602547\n",
       "4        3    2983.0      0.775409\n",
       "...    ...       ...           ...\n",
       "4266     6    6512.0      1.692748\n",
       "4267     5    3292.0      0.855732\n",
       "4268     7    8319.0      2.162464\n",
       "4269     3    2932.0      0.762152\n",
       "4270     2    3321.0      0.863270\n",
       "\n",
       "[4271 rows x 3 columns]"
      ]
     },
     "execution_count": 20,
     "metadata": {},
     "output_type": "execute_result"
    }
   ],
   "source": [
    "data_ann.obs"
   ]
  },
  {
   "cell_type": "code",
   "execution_count": 21,
   "id": "6701e828",
   "metadata": {},
   "outputs": [
    {
     "data": {
      "text/plain": [
       "array([[0., 0., 0., ..., 0., 0., 0.],\n",
       "       [0., 0., 0., ..., 0., 0., 0.],\n",
       "       [0., 0., 0., ..., 0., 0., 0.],\n",
       "       ...,\n",
       "       [0., 0., 0., ..., 1., 0., 0.],\n",
       "       [0., 0., 0., ..., 0., 0., 0.],\n",
       "       [0., 0., 0., ..., 0., 0., 0.]])"
      ]
     },
     "execution_count": 21,
     "metadata": {},
     "output_type": "execute_result"
    }
   ],
   "source": [
    "data_ann.raw.X"
   ]
  },
  {
   "cell_type": "markdown",
   "id": "8ff301aa",
   "metadata": {},
   "source": [
    "## PCA"
   ]
  },
  {
   "cell_type": "markdown",
   "id": "fcd26d84-1498-4d40-86c1-900625f4d28a",
   "metadata": {},
   "source": [
    "Let's study a little bit the PCA and evolution of the metrics with the number of components"
   ]
  },
  {
   "cell_type": "code",
   "execution_count": 26,
   "id": "c03d376c",
   "metadata": {},
   "outputs": [],
   "source": [
    "sc.tl.pca(data_ann, n_comps=50, use_highly_variable=False)"
   ]
  },
  {
   "cell_type": "code",
   "execution_count": 27,
   "id": "b089991d",
   "metadata": {},
   "outputs": [
    {
     "data": {
      "text/plain": [
       "<BarContainer object of 50 artists>"
      ]
     },
     "execution_count": 27,
     "metadata": {},
     "output_type": "execute_result"
    },
    {
     "data": {
      "image/png": "[encoded data removed]",
      "text/plain": [
       "<Figure size 640x480 with 1 Axes>"
      ]
     },
     "metadata": {},
     "output_type": "display_data"
    }
   ],
   "source": [
    "dim=[i for i in range (50)]\n",
    "plt.bar(dim, data_ann.uns['pca']['variance_ratio'])"
   ]
  },
  {
   "cell_type": "code",
   "execution_count": 28,
   "id": "a85cd41c",
   "metadata": {},
   "outputs": [
    {
     "name": "stderr",
     "output_type": "stream",
     "text": [
      "C:\\Users\\berth\\anaconda3\\Lib\\site-packages\\scanpy\\plotting\\_tools\\scatterplots.py:394: UserWarning: No data for colormapping provided via 'c'. Parameters 'cmap' will be ignored\n",
      "  cax = scatter(\n"
     ]
    },
    {
     "data": {
      "image/png": "[encoded data removed]",
      "text/plain": [
       "<Figure size 640x480 with 1 Axes>"
      ]
     },
     "metadata": {},
     "output_type": "display_data"
    }
   ],
   "source": [
    "if len(dim)>1:\n",
    "    sc.pl.pca(\n",
    "    data_ann,\n",
    "    color=[\"label\"],\n",
    "    dimensions=[(0, 1)],\n",
    ")"
   ]
  },
  {
   "cell_type": "code",
   "execution_count": 29,
   "id": "3153217b",
   "metadata": {},
   "outputs": [],
   "source": [
    "def cluster_acc(y_true, y_pred):\n",
    "    \"\"\"\n",
    "    Calculate clustering accuracy. Require scikit-learn installed\n",
    "    # Arguments\n",
    "        y: true labels, numpy.array with shape `(n_samples,)`\n",
    "        y_pred: predicted labels, numpy.array with shape `(n_samples,)`\n",
    "    # Return\n",
    "        accuracy, in [0,1]\n",
    "    \"\"\"\n",
    "    y_true = np.asarray(y_true)\n",
    "   \n",
    "    y_pred = np.asarray(y_pred)\n",
    "    \n",
    "    #Make sure it's an array of str\n",
    "    y_true= y_true.astype(str)\n",
    "    y_pred = y_pred.astype(str)\n",
    "    \n",
    "    # find unique labels\n",
    "    labels = np.unique(np.concatenate((y_true, y_pred)))\n",
    "    n_labels = len(labels)\n",
    "\n",
    "    # Build the confusion matrix (cost matrix)\n",
    "    cost_matrix = np.zeros((n_labels, n_labels), dtype=int)\n",
    "    for i, label_true in enumerate(labels):\n",
    "        for j, label_pred in enumerate(labels):\n",
    "            cost_matrix[i, j] = np.sum((y_true == label_true) & (y_pred == label_pred))\n",
    "\n",
    "    #solve the optimal bipartite correspondance problem\n",
    "    row_ind, col_ind = linear_assignment(cost_matrix.max() - cost_matrix)\n",
    "\n",
    "    # Compute the accuracy\n",
    "    accuracy = np.sum([cost_matrix[i, j] for i, j in zip(row_ind, col_ind)]) / y_true.size\n",
    "\n",
    "    return accuracy"
   ]
  },
  {
   "cell_type": "code",
   "execution_count": 30,
   "id": "9bbe2683",
   "metadata": {},
   "outputs": [
    {
     "name": "stdout",
     "output_type": "stream",
     "text": [
      "Nombre de composantes: 1, Score de silhouette: 0.5678719894252944\n",
      "Nombre de composantes: 2, Score de silhouette: 0.5418724011467702\n",
      "Nombre de composantes: 3, Score de silhouette: 0.5273143050902565\n",
      "Nombre de composantes: 4, Score de silhouette: 0.4413619745196498\n",
      "Nombre de composantes: 5, Score de silhouette: 0.3577258156052196\n",
      "Nombre de composantes: 6, Score de silhouette: 0.382760758748421\n",
      "Nombre de composantes: 7, Score de silhouette: 0.425417509683824\n",
      "Nombre de composantes: 8, Score de silhouette: 0.41947528105640647\n",
      "Nombre de composantes: 9, Score de silhouette: 0.39663066418307713\n",
      "Nombre de composantes: 10, Score de silhouette: 0.398231156711535\n",
      "Nombre de composantes: 11, Score de silhouette: 0.38712924952524247\n",
      "Nombre de composantes: 12, Score de silhouette: 0.37744512887294623\n",
      "Nombre de composantes: 13, Score de silhouette: 0.36456062611000395\n",
      "Nombre de composantes: 14, Score de silhouette: 0.3584984267806283\n",
      "Nombre de composantes: 15, Score de silhouette: 0.35008653726001887\n",
      "Nombre de composantes: 16, Score de silhouette: 0.34253594379019653\n",
      "Nombre de composantes: 17, Score de silhouette: 0.33296494932431275\n",
      "Nombre de composantes: 18, Score de silhouette: 0.32619309999538565\n",
      "Nombre de composantes: 19, Score de silhouette: 0.31873036310223135\n",
      "Nombre de composantes: 20, Score de silhouette: 0.31234197185412177\n",
      "Le meilleur nombre de composantes principales est: 1\n"
     ]
    }
   ],
   "source": [
    "# Define the range of number of components\n",
    "range_n_components = list(range(1, 21))  \n",
    "\n",
    "#number of clusters for kmeans\n",
    "n_clusters = 8 \n",
    "\n",
    "#Initialize lists to save results\n",
    "silhouette_scores = []\n",
    "ari_score=[]\n",
    "nmi_score=[]\n",
    "ca_score=[]\n",
    "\n",
    "for n in range_n_components:\n",
    "    # Apply PCA\n",
    "    pca = PCA(n_components=n)\n",
    "    X_pca = pca.fit_transform(data_ann.X)\n",
    "\n",
    "    # Apply K-means clustering\n",
    "    kmeans = KMeans(n_clusters=n_clusters, random_state=0, n_init=20)\n",
    "    clusters = kmeans.fit_predict(X_pca)\n",
    "\n",
    "    # Compute metric scores\n",
    "    score = silhouette_score(X_pca, clusters)\n",
    "    silhouette_scores.append(score)\n",
    "    ari_score.append(adjusted_rand_score(data_ann.obs['label'], clusters))\n",
    "    nmi_score.append(normalized_mutual_info_score(data_ann.obs['label'], clusters))\n",
    "    ca_score.append(cluster_acc(data_ann.obs['label'], clusters))\n",
    "    print(f'Nombre de composantes: {n}, Score de silhouette: {score}')\n",
    "\n",
    "# what is the best number of components to maximize the silhouette score\n",
    "best_n_components = range_n_components[np.argmax(silhouette_scores)]\n",
    "print(f'Le meilleur nombre de composantes principales est: {best_n_components}')"
   ]
  },
  {
   "cell_type": "code",
   "execution_count": 31,
   "id": "2c6407c2",
   "metadata": {},
   "outputs": [
    {
     "data": {
      "image/png": "[encoded data removed]",
      "text/plain": [
       "<Figure size 640x480 with 4 Axes>"
      ]
     },
     "metadata": {},
     "output_type": "display_data"
    }
   ],
   "source": [
    "# plot the metric scores \n",
    "fig, axes = plt.subplots(2, 2)\n",
    "\n",
    "# flatten the axis matrix\n",
    "axes = axes.flatten()\n",
    "\n",
    "axes[0].plot(range_n_components, silhouette_scores, marker='o', color='blue')\n",
    "axes[0].set_xlabel('Nombre de composantes principales')\n",
    "axes[0].set_ylabel('Score de silhouette')\n",
    "#axes[0].set_title('Score de silhouette pour différents nombres de composantes principales')\n",
    "\n",
    "\n",
    "axes[1].plot(range_n_components, ari_score, marker='o', color='red')\n",
    "axes[1].set_xlabel('Nombre de composantes principales')\n",
    "axes[1].set_ylabel('Score de ARI')\n",
    "#axes[1].set_title('Score de ARI pour différents nombres de composantes principales')\n",
    "\n",
    "axes[2].plot(range_n_components, nmi_score, marker='o', color='green')\n",
    "axes[2].set_xlabel('Nombre de composantes principales')\n",
    "axes[2].set_ylabel('Score de NMI')\n",
    "#axes[2].set_title('Score de NMI pour différents nombres de composantes principales')\n",
    "\n",
    "axes[3].plot(range_n_components, ca_score, marker='o', color='purple')\n",
    "axes[3].set_xlabel('Nombre de composantes principales')\n",
    "axes[3].set_ylabel('Score de CA')\n",
    "#axes[3].set_title('Score de CA pour différents nombres de composantes principales')\n",
    "plt.tight_layout()\n",
    "plt.show()"
   ]
  },
  {
   "cell_type": "markdown",
   "id": "b105ccd4-9157-41d7-aa71-afbd30c128a7",
   "metadata": {},
   "source": [
    "The ARI, CA and NMI scores doesn't follow the same evolution as the silhouette score. In order to reproduce the same experiment, 1 component will be kept"
   ]
  },
  {
   "cell_type": "code",
   "execution_count": 32,
   "id": "96bf1c2e",
   "metadata": {},
   "outputs": [],
   "source": [
    "sc.tl.pca(data_ann, n_comps=1, use_highly_variable=False)"
   ]
  },
  {
   "cell_type": "code",
   "execution_count": 33,
   "id": "3adcc0da",
   "metadata": {},
   "outputs": [
    {
     "data": {
      "text/plain": [
       "<BarContainer object of 1 artists>"
      ]
     },
     "execution_count": 33,
     "metadata": {},
     "output_type": "execute_result"
    },
    {
     "data": {
      "image/png": "[encoded data removed]",
      "text/plain": [
       "<Figure size 640x480 with 1 Axes>"
      ]
     },
     "metadata": {},
     "output_type": "display_data"
    }
   ],
   "source": [
    "dim=[i for i in range (1)]\n",
    "plt.bar(dim, data_ann.uns['pca']['variance_ratio'])"
   ]
  },
  {
   "cell_type": "code",
   "execution_count": 34,
   "id": "71e7140a",
   "metadata": {},
   "outputs": [],
   "source": [
    "if len(dim)>1:\n",
    "    sc.pl.pca(\n",
    "    data_ann,\n",
    "    color=[\"label\"],\n",
    "    dimensions=[(0, 1)],\n",
    ")"
   ]
  },
  {
   "cell_type": "code",
   "execution_count": 35,
   "id": "a91d84da",
   "metadata": {},
   "outputs": [],
   "source": [
    "def auto_kmeans( adata_latent, n=\"auto\", plot=False):\n",
    "    \"\"\"\n",
    "    Apply K-means clustering on the data to maximise the sum of the metrics\n",
    "    \n",
    "    Inputs :\n",
    "        adata_latent : data after pca projection\n",
    "        n : if auto, look for the best number of clusters otherwise use the n value given\n",
    "        plot (bool) : if True show some plots, none otherwise\n",
    "    \n",
    "    Outputs :\n",
    "        y_pred : clusters assignments from K-means clustering\n",
    "        n (int) : the number of clusters \n",
    "        kmeans.cluster_centers_ : clusters centers\n",
    "    \"\"\"\n",
    "    y=adata_latent.obs[\"label\"]\n",
    "    X_pca = adata_latent.obsm['X_pca']\n",
    "    ari=[]\n",
    "    nmi=[]\n",
    "    ca=[]\n",
    "    x=[]\n",
    "    if n==\"auto\":\n",
    "        #apply K-means for 1 to 20 clusters\n",
    "        for n in range (1,20):\n",
    "            kmeans = KMeans(n_clusters=n, random_state=0, n_init=30).fit(X_pca) \n",
    "            y_pred=kmeans.labels_.astype(str)\n",
    "            ari.append(adjusted_rand_score(y, y_pred))\n",
    "            nmi.append(normalized_mutual_info_score(y, y_pred))\n",
    "            ca.append(cluster_acc(y, y_pred))\n",
    "            x.append(n)\n",
    "        #choose the number of clusters that maximize the sum of the metrics\n",
    "        somme_metriques = [x + y + z for x, y, z in zip(ari, nmi, ca)]\n",
    "        n_max=(somme_metriques.index(max(somme_metriques))+1)\n",
    "    else: \n",
    "        n_max=n\n",
    "        \n",
    "    #compute for the selected value of n\n",
    "    kmeans = KMeans(n_clusters=n_max, random_state=0, n_init=30).fit(X_pca) \n",
    "    y_pred=kmeans.labels_.astype(str)\n",
    "    \n",
    "    #display some plots if needed\n",
    "    if plot==True:\n",
    "        adata_latent.obs[\"kmeans\"]=y_pred\n",
    "        sc.pl.pca(adata_train,color=[\"label\"],dimensions=[(0, 1)])\n",
    "        sc.pl.pca(adata_train,color=[\"kmeans\"],dimensions=[(0, 1)])\n",
    "        plt.plot(x,ari)\n",
    "        plt.plot(x,nmi)\n",
    "        plt.plot(x,ca)\n",
    "        plt.xlabel(\"nombre de clusters\")\n",
    "        plt.ylabel(\"Score\")\n",
    "        plt.legend(labels=[\"ARI\", \"NMI\", \"CA\"])\n",
    "        plt.plot()\n",
    "    ari = adjusted_rand_score(y, y_pred)\n",
    "    print(\"Indice de Rand ajusté (ARI) :\", ari)\n",
    "    nmi = normalized_mutual_info_score(y, y_pred)\n",
    "    print(\"Normalized mutual info (NMI) :\", nmi)\n",
    "    ca=cluster_acc(y, y_pred)\n",
    "    print(\"Clustering accuracy (CA) :\", ca)\n",
    "        \n",
    "    return y_pred, n, kmeans"
   ]
  },
  {
   "cell_type": "code",
   "execution_count": 36,
   "id": "4d671ea9",
   "metadata": {},
   "outputs": [
    {
     "name": "stdout",
     "output_type": "stream",
     "text": [
      "Indice de Rand ajusté (ARI) : 0.5811949291933077\n",
      "Normalized mutual info (NMI) : 0.5826115804789677\n",
      "Clustering accuracy (CA) : 0.6143760243502693\n"
     ]
    }
   ],
   "source": [
    "y_pred_train, n_clusters, kmeans=auto_kmeans( data_ann, n=8,  plot=False)"
   ]
  },
  {
   "cell_type": "code",
   "execution_count": 37,
   "id": "f6c2e42a",
   "metadata": {},
   "outputs": [
    {
     "data": {
      "text/html": [
       "<div>\n",
       "<style scoped>\n",
       "    .dataframe tbody tr th:only-of-type {\n",
       "        vertical-align: middle;\n",
       "    }\n",
       "\n",
       "    .dataframe tbody tr th {\n",
       "        vertical-align: top;\n",
       "    }\n",
       "\n",
       "    .dataframe thead th {\n",
       "        text-align: right;\n",
       "    }\n",
       "</style>\n",
       "<table border=\"1\" class=\"dataframe\">\n",
       "  <thead>\n",
       "    <tr style=\"text-align: right;\">\n",
       "      <th></th>\n",
       "      <th>label</th>\n",
       "      <th>n_counts</th>\n",
       "      <th>size_factors</th>\n",
       "    </tr>\n",
       "  </thead>\n",
       "  <tbody>\n",
       "    <tr>\n",
       "      <th>0</th>\n",
       "      <td>2</td>\n",
       "      <td>1738.0</td>\n",
       "      <td>0.451781</td>\n",
       "    </tr>\n",
       "    <tr>\n",
       "      <th>1</th>\n",
       "      <td>2</td>\n",
       "      <td>3240.0</td>\n",
       "      <td>0.842215</td>\n",
       "    </tr>\n",
       "    <tr>\n",
       "      <th>2</th>\n",
       "      <td>2</td>\n",
       "      <td>1683.0</td>\n",
       "      <td>0.437484</td>\n",
       "    </tr>\n",
       "    <tr>\n",
       "      <th>3</th>\n",
       "      <td>8</td>\n",
       "      <td>2318.0</td>\n",
       "      <td>0.602547</td>\n",
       "    </tr>\n",
       "    <tr>\n",
       "      <th>4</th>\n",
       "      <td>3</td>\n",
       "      <td>2983.0</td>\n",
       "      <td>0.775409</td>\n",
       "    </tr>\n",
       "    <tr>\n",
       "      <th>...</th>\n",
       "      <td>...</td>\n",
       "      <td>...</td>\n",
       "      <td>...</td>\n",
       "    </tr>\n",
       "    <tr>\n",
       "      <th>4266</th>\n",
       "      <td>6</td>\n",
       "      <td>6512.0</td>\n",
       "      <td>1.692748</td>\n",
       "    </tr>\n",
       "    <tr>\n",
       "      <th>4267</th>\n",
       "      <td>5</td>\n",
       "      <td>3292.0</td>\n",
       "      <td>0.855732</td>\n",
       "    </tr>\n",
       "    <tr>\n",
       "      <th>4268</th>\n",
       "      <td>7</td>\n",
       "      <td>8319.0</td>\n",
       "      <td>2.162464</td>\n",
       "    </tr>\n",
       "    <tr>\n",
       "      <th>4269</th>\n",
       "      <td>3</td>\n",
       "      <td>2932.0</td>\n",
       "      <td>0.762152</td>\n",
       "    </tr>\n",
       "    <tr>\n",
       "      <th>4270</th>\n",
       "      <td>2</td>\n",
       "      <td>3321.0</td>\n",
       "      <td>0.863270</td>\n",
       "    </tr>\n",
       "  </tbody>\n",
       "</table>\n",
       "<p>4271 rows × 3 columns</p>\n",
       "</div>"
      ],
      "text/plain": [
       "     label  n_counts  size_factors\n",
       "0        2    1738.0      0.451781\n",
       "1        2    3240.0      0.842215\n",
       "2        2    1683.0      0.437484\n",
       "3        8    2318.0      0.602547\n",
       "4        3    2983.0      0.775409\n",
       "...    ...       ...           ...\n",
       "4266     6    6512.0      1.692748\n",
       "4267     5    3292.0      0.855732\n",
       "4268     7    8319.0      2.162464\n",
       "4269     3    2932.0      0.762152\n",
       "4270     2    3321.0      0.863270\n",
       "\n",
       "[4271 rows x 3 columns]"
      ]
     },
     "execution_count": 37,
     "metadata": {},
     "output_type": "execute_result"
    }
   ],
   "source": [
    "data_ann.obs"
   ]
  },
  {
   "cell_type": "markdown",
   "id": "0f8a20eb-105c-45ee-b789-d495c88979ff",
   "metadata": {},
   "source": [
    "Using exactly their way to do it "
   ]
  },
  {
   "cell_type": "code",
   "execution_count": 38,
   "id": "caf662bf",
   "metadata": {},
   "outputs": [
    {
     "name": "stdout",
     "output_type": "stream",
     "text": [
      "PCA + k-means result : NMI= 0.5795, ARI= 0.5643, CA = 0.6116\n"
     ]
    }
   ],
   "source": [
    "x = np.array(data_ann.X)\n",
    "y_true = np.array(data_ann.obs['label'])\n",
    "pca = PCA(n_components=1)\n",
    "x_pca = pca.fit(x).transform(x)\n",
    "\n",
    "kmeans = KMeans(n_clusters=8, n_init=20)\n",
    "y_pred = kmeans.fit(x_pca).labels_\n",
    "\n",
    "#acc = np.round(cluster_acc(y_true, y_pred), 5)\n",
    "nmi = np.round(normalized_mutual_info_score(y_true, y_pred), 5)\n",
    "ari = np.round(adjusted_rand_score(y_true, y_pred), 5)\n",
    "ca=np.round(cluster_acc(y_true, y_pred),5)\n",
    "print('PCA + k-means result : NMI= %.4f, ARI= %.4f, CA = %.4f' % (nmi, ari, ca))\n"
   ]
  },
  {
   "cell_type": "markdown",
   "id": "e093ff68-701e-44f7-b14c-3e0c56d28a31",
   "metadata": {},
   "source": [
    "If we try to keep 8 components, the results are much better"
   ]
  },
  {
   "cell_type": "code",
   "execution_count": 39,
   "id": "09c80f7e",
   "metadata": {},
   "outputs": [
    {
     "name": "stdout",
     "output_type": "stream",
     "text": [
      "PCA + k-means result : NMI= 0.8290, ARI= 0.8363, CA = 0.8562\n"
     ]
    }
   ],
   "source": [
    "x = np.array(data_ann.X)\n",
    "y_true = np.array(data_ann.obs['label'])\n",
    "pca = PCA(n_components=8)\n",
    "x_pca = pca.fit(x).transform(x)\n",
    "\n",
    "kmeans = KMeans(n_clusters=8, n_init=20)\n",
    "y_pred = kmeans.fit(x_pca).labels_\n",
    "\n",
    "#acc = np.round(cluster_acc(y_true, y_pred), 5)\n",
    "nmi = np.round(normalized_mutual_info_score(y_true, y_pred), 5)\n",
    "ari = np.round(adjusted_rand_score(y_true, y_pred), 5)\n",
    "ca=np.round(cluster_acc(y_true, y_pred),5)\n",
    "print('PCA + k-means result : NMI= %.4f, ARI= %.4f, CA = %.4f' % (nmi, ari, ca))\n"
   ]
  },
  {
   "cell_type": "code",
   "execution_count": null,
   "id": "6860bc82",
   "metadata": {},
   "outputs": [],
   "source": []
  }
 ],
 "metadata": {
  "kernelspec": {
   "display_name": "Python 3.12",
   "language": "python",
   "name": "python3"
  },
  "language_info": {
   "codemirror_mode": {
    "name": "ipython",
    "version": 3
   },
   "file_extension": ".py",
   "mimetype": "text/x-python",
   "name": "python",
   "nbconvert_exporter": "python",
   "pygments_lexer": "ipython3",
   "version": "3.12.4"
  }
 },
 "nbformat": 4,
 "nbformat_minor": 5
}
